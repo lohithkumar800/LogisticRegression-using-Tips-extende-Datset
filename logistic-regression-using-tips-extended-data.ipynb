{
 "cells": [
  {
   "cell_type": "code",
   "execution_count": 1,
   "id": "655d4cd3",
   "metadata": {
    "_cell_guid": "b1076dfc-b9ad-4769-8c92-a6c4dae69d19",
    "_uuid": "8f2839f25d086af736a60e9eeb907d3b93b6e0e5",
    "execution": {
     "iopub.execute_input": "2022-11-20T04:41:42.839391Z",
     "iopub.status.busy": "2022-11-20T04:41:42.839128Z",
     "iopub.status.idle": "2022-11-20T04:41:42.864545Z",
     "shell.execute_reply": "2022-11-20T04:41:42.863993Z"
    },
    "papermill": {
     "duration": 0.033609,
     "end_time": "2022-11-20T04:41:42.866489",
     "exception": false,
     "start_time": "2022-11-20T04:41:42.832880",
     "status": "completed"
    },
    "tags": []
   },
   "outputs": [
    {
     "name": "stdout",
     "output_type": "stream",
     "text": [
      "/kaggle/input/logistic-regression/tips.extended_cleaned.csv\n",
      "/kaggle/input/logistic-regression/__results__.html\n",
      "/kaggle/input/logistic-regression/__notebook__.ipynb\n",
      "/kaggle/input/logistic-regression/__output__.json\n",
      "/kaggle/input/logistic-regression/custom.css\n",
      "/kaggle/input/logistic-regression/__results___files/__results___11_1.png\n"
     ]
    }
   ],
   "source": [
    "# This Python 3 environment comes with many helpful analytics libraries installed\n",
    "# It is defined by the kaggle/python Docker image: https://github.com/kaggle/docker-python\n",
    "# For example, here's several helpful packages to load\n",
    "\n",
    "import numpy as np # linear algebra\n",
    "import pandas as pd # data processing, CSV file I/O (e.g. pd.read_csv)\n",
    "\n",
    "# Input data files are available in the read-only \"../input/\" directory\n",
    "# For example, running this (by clicking run or pressing Shift+Enter) will list all files under the input directory\n",
    "\n",
    "import os\n",
    "for dirname, _, filenames in os.walk('/kaggle/input'):\n",
    "    for filename in filenames:\n",
    "        print(os.path.join(dirname, filename))\n",
    "\n",
    "# You can write up to 20GB to the current directory (/kaggle/working/) that gets preserved as output when you create a version using \"Save & Run All\" \n",
    "# You can also write temporary files to /kaggle/temp/, but they won't be saved outside of the current session"
   ]
  },
  {
   "cell_type": "markdown",
   "id": "02868f32",
   "metadata": {
    "papermill": {
     "duration": 0.004475,
     "end_time": "2022-11-20T04:41:42.876349",
     "exception": false,
     "start_time": "2022-11-20T04:41:42.871874",
     "status": "completed"
    },
    "tags": []
   },
   "source": [
    "# Import Libraries"
   ]
  },
  {
   "cell_type": "code",
   "execution_count": 2,
   "id": "6fbcb54e",
   "metadata": {
    "execution": {
     "iopub.execute_input": "2022-11-20T04:41:42.886814Z",
     "iopub.status.busy": "2022-11-20T04:41:42.886433Z",
     "iopub.status.idle": "2022-11-20T04:41:43.695406Z",
     "shell.execute_reply": "2022-11-20T04:41:43.694470Z"
    },
    "papermill": {
     "duration": 0.816476,
     "end_time": "2022-11-20T04:41:43.697505",
     "exception": false,
     "start_time": "2022-11-20T04:41:42.881029",
     "status": "completed"
    },
    "tags": []
   },
   "outputs": [],
   "source": [
    "import pandas as pd\n",
    "from sklearn.linear_model import LogisticRegression\n",
    "from sklearn.metrics import mean_squared_error, mean_absolute_error"
   ]
  },
  {
   "cell_type": "markdown",
   "id": "27056967",
   "metadata": {
    "papermill": {
     "duration": 0.004474,
     "end_time": "2022-11-20T04:41:43.707022",
     "exception": false,
     "start_time": "2022-11-20T04:41:43.702548",
     "status": "completed"
    },
    "tags": []
   },
   "source": [
    "# Loading the Dataset"
   ]
  },
  {
   "cell_type": "code",
   "execution_count": 3,
   "id": "f4865a62",
   "metadata": {
    "execution": {
     "iopub.execute_input": "2022-11-20T04:41:43.717804Z",
     "iopub.status.busy": "2022-11-20T04:41:43.717055Z",
     "iopub.status.idle": "2022-11-20T04:41:43.747906Z",
     "shell.execute_reply": "2022-11-20T04:41:43.747328Z"
    },
    "papermill": {
     "duration": 0.03775,
     "end_time": "2022-11-20T04:41:43.749382",
     "exception": false,
     "start_time": "2022-11-20T04:41:43.711632",
     "status": "completed"
    },
    "tags": []
   },
   "outputs": [
    {
     "data": {
      "text/html": [
       "<div>\n",
       "<style scoped>\n",
       "    .dataframe tbody tr th:only-of-type {\n",
       "        vertical-align: middle;\n",
       "    }\n",
       "\n",
       "    .dataframe tbody tr th {\n",
       "        vertical-align: top;\n",
       "    }\n",
       "\n",
       "    .dataframe thead th {\n",
       "        text-align: right;\n",
       "    }\n",
       "</style>\n",
       "<table border=\"1\" class=\"dataframe\">\n",
       "  <thead>\n",
       "    <tr style=\"text-align: right;\">\n",
       "      <th></th>\n",
       "      <th>Bill</th>\n",
       "      <th>Number_of_People</th>\n",
       "      <th>Tips</th>\n",
       "      <th>Arrived_in_cleaned</th>\n",
       "      <th>Time_of_visit_cleaned</th>\n",
       "    </tr>\n",
       "  </thead>\n",
       "  <tbody>\n",
       "    <tr>\n",
       "      <th>3</th>\n",
       "      <td>56</td>\n",
       "      <td>2</td>\n",
       "      <td>0</td>\n",
       "      <td>1</td>\n",
       "      <td>0</td>\n",
       "    </tr>\n",
       "    <tr>\n",
       "      <th>21</th>\n",
       "      <td>0</td>\n",
       "      <td>0</td>\n",
       "      <td>0</td>\n",
       "      <td>0</td>\n",
       "      <td>0</td>\n",
       "    </tr>\n",
       "    <tr>\n",
       "      <th>45</th>\n",
       "      <td>90</td>\n",
       "      <td>7</td>\n",
       "      <td>10</td>\n",
       "      <td>1</td>\n",
       "      <td>2</td>\n",
       "    </tr>\n",
       "    <tr>\n",
       "      <th>22</th>\n",
       "      <td>8</td>\n",
       "      <td>1</td>\n",
       "      <td>0</td>\n",
       "      <td>1</td>\n",
       "      <td>0</td>\n",
       "    </tr>\n",
       "    <tr>\n",
       "      <th>7</th>\n",
       "      <td>22</td>\n",
       "      <td>2</td>\n",
       "      <td>0</td>\n",
       "      <td>0</td>\n",
       "      <td>1</td>\n",
       "    </tr>\n",
       "    <tr>\n",
       "      <th>39</th>\n",
       "      <td>100</td>\n",
       "      <td>2</td>\n",
       "      <td>5</td>\n",
       "      <td>1</td>\n",
       "      <td>2</td>\n",
       "    </tr>\n",
       "    <tr>\n",
       "      <th>43</th>\n",
       "      <td>93</td>\n",
       "      <td>1</td>\n",
       "      <td>7</td>\n",
       "      <td>1</td>\n",
       "      <td>2</td>\n",
       "    </tr>\n",
       "    <tr>\n",
       "      <th>38</th>\n",
       "      <td>83</td>\n",
       "      <td>4</td>\n",
       "      <td>5</td>\n",
       "      <td>0</td>\n",
       "      <td>2</td>\n",
       "    </tr>\n",
       "    <tr>\n",
       "      <th>6</th>\n",
       "      <td>7</td>\n",
       "      <td>1</td>\n",
       "      <td>0</td>\n",
       "      <td>0</td>\n",
       "      <td>1</td>\n",
       "    </tr>\n",
       "    <tr>\n",
       "      <th>26</th>\n",
       "      <td>48</td>\n",
       "      <td>5</td>\n",
       "      <td>9</td>\n",
       "      <td>1</td>\n",
       "      <td>1</td>\n",
       "    </tr>\n",
       "  </tbody>\n",
       "</table>\n",
       "</div>"
      ],
      "text/plain": [
       "    Bill  Number_of_People  Tips  Arrived_in_cleaned  Time_of_visit_cleaned\n",
       "3     56                 2     0                   1                      0\n",
       "21     0                 0     0                   0                      0\n",
       "45    90                 7    10                   1                      2\n",
       "22     8                 1     0                   1                      0\n",
       "7     22                 2     0                   0                      1\n",
       "39   100                 2     5                   1                      2\n",
       "43    93                 1     7                   1                      2\n",
       "38    83                 4     5                   0                      2\n",
       "6      7                 1     0                   0                      1\n",
       "26    48                 5     9                   1                      1"
      ]
     },
     "execution_count": 3,
     "metadata": {},
     "output_type": "execute_result"
    }
   ],
   "source": [
    "df = pd.read_csv('../input/logistic-regression/tips.extended_cleaned.csv')\n",
    "df.sample(10)"
   ]
  },
  {
   "cell_type": "markdown",
   "id": "4d505c0d",
   "metadata": {
    "papermill": {
     "duration": 0.004566,
     "end_time": "2022-11-20T04:41:43.758729",
     "exception": false,
     "start_time": "2022-11-20T04:41:43.754163",
     "status": "completed"
    },
    "tags": []
   },
   "source": [
    "# Train-test split"
   ]
  },
  {
   "cell_type": "code",
   "execution_count": 4,
   "id": "9f26e4ed",
   "metadata": {
    "execution": {
     "iopub.execute_input": "2022-11-20T04:41:43.769815Z",
     "iopub.status.busy": "2022-11-20T04:41:43.769072Z",
     "iopub.status.idle": "2022-11-20T04:41:43.773522Z",
     "shell.execute_reply": "2022-11-20T04:41:43.773001Z"
    },
    "papermill": {
     "duration": 0.011385,
     "end_time": "2022-11-20T04:41:43.774941",
     "exception": false,
     "start_time": "2022-11-20T04:41:43.763556",
     "status": "completed"
    },
    "tags": []
   },
   "outputs": [
    {
     "data": {
      "text/plain": [
       "(48, 5)"
      ]
     },
     "execution_count": 4,
     "metadata": {},
     "output_type": "execute_result"
    }
   ],
   "source": [
    "df.shape"
   ]
  },
  {
   "cell_type": "code",
   "execution_count": 5,
   "id": "fc8fae92",
   "metadata": {
    "execution": {
     "iopub.execute_input": "2022-11-20T04:41:43.786797Z",
     "iopub.status.busy": "2022-11-20T04:41:43.786244Z",
     "iopub.status.idle": "2022-11-20T04:41:43.791566Z",
     "shell.execute_reply": "2022-11-20T04:41:43.790830Z"
    },
    "papermill": {
     "duration": 0.013692,
     "end_time": "2022-11-20T04:41:43.793544",
     "exception": false,
     "start_time": "2022-11-20T04:41:43.779852",
     "status": "completed"
    },
    "tags": []
   },
   "outputs": [
    {
     "data": {
      "text/plain": [
       "(44, 4)"
      ]
     },
     "execution_count": 5,
     "metadata": {},
     "output_type": "execute_result"
    }
   ],
   "source": [
    "test_ratio = 0.1 # 10% for testing,90% for training\n",
    "data_size = df.shape[0]\n",
    "test_size = int(data_size * test_ratio)\n",
    "train_size = data_size - test_size\n",
    "(train_size,test_size)"
   ]
  },
  {
   "cell_type": "code",
   "execution_count": 6,
   "id": "75b8b5cf",
   "metadata": {
    "execution": {
     "iopub.execute_input": "2022-11-20T04:41:43.805517Z",
     "iopub.status.busy": "2022-11-20T04:41:43.804827Z",
     "iopub.status.idle": "2022-11-20T04:41:43.810896Z",
     "shell.execute_reply": "2022-11-20T04:41:43.810163Z"
    },
    "papermill": {
     "duration": 0.013378,
     "end_time": "2022-11-20T04:41:43.812504",
     "exception": false,
     "start_time": "2022-11-20T04:41:43.799126",
     "status": "completed"
    },
    "tags": []
   },
   "outputs": [
    {
     "data": {
      "text/plain": [
       "(44, 4)"
      ]
     },
     "execution_count": 6,
     "metadata": {},
     "output_type": "execute_result"
    }
   ],
   "source": [
    "# Randomize the records in df\n",
    "df = df.sample(frac=1)\n",
    "train_df = df.head(train_size)\n",
    "test_df = df.tail(test_size)\n",
    "(train_df.shape[0],test_df.shape[0])"
   ]
  },
  {
   "cell_type": "markdown",
   "id": "d50021ac",
   "metadata": {
    "papermill": {
     "duration": 0.004889,
     "end_time": "2022-11-20T04:41:43.822622",
     "exception": false,
     "start_time": "2022-11-20T04:41:43.817733",
     "status": "completed"
    },
    "tags": []
   },
   "source": [
    "# Convert train and test data to numpy"
   ]
  },
  {
   "cell_type": "code",
   "execution_count": 7,
   "id": "f67347ec",
   "metadata": {
    "execution": {
     "iopub.execute_input": "2022-11-20T04:41:43.833648Z",
     "iopub.status.busy": "2022-11-20T04:41:43.833418Z",
     "iopub.status.idle": "2022-11-20T04:41:43.838428Z",
     "shell.execute_reply": "2022-11-20T04:41:43.837754Z"
    },
    "papermill": {
     "duration": 0.012346,
     "end_time": "2022-11-20T04:41:43.839959",
     "exception": false,
     "start_time": "2022-11-20T04:41:43.827613",
     "status": "completed"
    },
    "tags": []
   },
   "outputs": [
    {
     "data": {
      "text/plain": [
       "Index(['Bill', 'Number_of_People', 'Tips', 'Arrived_in_cleaned',\n",
       "       'Time_of_visit_cleaned'],\n",
       "      dtype='object')"
      ]
     },
     "execution_count": 7,
     "metadata": {},
     "output_type": "execute_result"
    }
   ],
   "source": [
    "df.columns"
   ]
  },
  {
   "cell_type": "code",
   "execution_count": 8,
   "id": "b7c7bed5",
   "metadata": {
    "execution": {
     "iopub.execute_input": "2022-11-20T04:41:43.851530Z",
     "iopub.status.busy": "2022-11-20T04:41:43.851151Z",
     "iopub.status.idle": "2022-11-20T04:41:43.859896Z",
     "shell.execute_reply": "2022-11-20T04:41:43.859250Z"
    },
    "papermill": {
     "duration": 0.01634,
     "end_time": "2022-11-20T04:41:43.861506",
     "exception": false,
     "start_time": "2022-11-20T04:41:43.845166",
     "status": "completed"
    },
    "tags": []
   },
   "outputs": [],
   "source": [
    "feature_columns = ['Bill', 'Number_of_People', 'Arrived_in_cleaned', 'Time_of_visit_cleaned']\n",
    "train_x_df = train_df.loc[:, feature_columns]\n",
    "train_y_df = train_df.loc[:, ['Tips']]\n",
    "test_x_df = test_df.loc[:, feature_columns]\n",
    "test_y_df = test_df.loc[:, ['Tips']]\n"
   ]
  },
  {
   "cell_type": "code",
   "execution_count": 9,
   "id": "4cdeddde",
   "metadata": {
    "execution": {
     "iopub.execute_input": "2022-11-20T04:41:43.872784Z",
     "iopub.status.busy": "2022-11-20T04:41:43.872432Z",
     "iopub.status.idle": "2022-11-20T04:41:43.876286Z",
     "shell.execute_reply": "2022-11-20T04:41:43.875615Z"
    },
    "papermill": {
     "duration": 0.011074,
     "end_time": "2022-11-20T04:41:43.877730",
     "exception": false,
     "start_time": "2022-11-20T04:41:43.866656",
     "status": "completed"
    },
    "tags": []
   },
   "outputs": [],
   "source": [
    "train_x = train_x_df.to_numpy()\n",
    "train_y = train_y_df.to_numpy().reshape(-1)\n",
    "test_x = test_x_df.to_numpy()\n",
    "test_y = test_y_df.to_numpy().reshape(-1)"
   ]
  },
  {
   "cell_type": "markdown",
   "id": "202de5b2",
   "metadata": {
    "papermill": {
     "duration": 0.004859,
     "end_time": "2022-11-20T04:41:43.887873",
     "exception": false,
     "start_time": "2022-11-20T04:41:43.883014",
     "status": "completed"
    },
    "tags": []
   },
   "source": [
    "# Initiate the algorithm "
   ]
  },
  {
   "cell_type": "code",
   "execution_count": 10,
   "id": "c50f4dfd",
   "metadata": {
    "execution": {
     "iopub.execute_input": "2022-11-20T04:41:43.899041Z",
     "iopub.status.busy": "2022-11-20T04:41:43.898542Z",
     "iopub.status.idle": "2022-11-20T04:41:43.901512Z",
     "shell.execute_reply": "2022-11-20T04:41:43.901002Z"
    },
    "papermill": {
     "duration": 0.009989,
     "end_time": "2022-11-20T04:41:43.902924",
     "exception": false,
     "start_time": "2022-11-20T04:41:43.892935",
     "status": "completed"
    },
    "tags": []
   },
   "outputs": [],
   "source": [
    "logistic_model = LogisticRegression(solver='liblinear', C=50)"
   ]
  },
  {
   "cell_type": "markdown",
   "id": "341cd70e",
   "metadata": {
    "papermill": {
     "duration": 0.005021,
     "end_time": "2022-11-20T04:41:43.913082",
     "exception": false,
     "start_time": "2022-11-20T04:41:43.908061",
     "status": "completed"
    },
    "tags": []
   },
   "source": [
    "# Train the Model"
   ]
  },
  {
   "cell_type": "code",
   "execution_count": 11,
   "id": "90fd84c3",
   "metadata": {
    "execution": {
     "iopub.execute_input": "2022-11-20T04:41:43.924339Z",
     "iopub.status.busy": "2022-11-20T04:41:43.923933Z",
     "iopub.status.idle": "2022-11-20T04:41:43.933029Z",
     "shell.execute_reply": "2022-11-20T04:41:43.932362Z"
    },
    "papermill": {
     "duration": 0.016385,
     "end_time": "2022-11-20T04:41:43.934510",
     "exception": false,
     "start_time": "2022-11-20T04:41:43.918125",
     "status": "completed"
    },
    "tags": []
   },
   "outputs": [
    {
     "data": {
      "text/plain": [
       "LogisticRegression(C=50, solver='liblinear')"
      ]
     },
     "execution_count": 11,
     "metadata": {},
     "output_type": "execute_result"
    }
   ],
   "source": [
    "logistic_model.fit(train_x, train_y)"
   ]
  },
  {
   "cell_type": "markdown",
   "id": "929a011c",
   "metadata": {
    "papermill": {
     "duration": 0.004996,
     "end_time": "2022-11-20T04:41:43.944690",
     "exception": false,
     "start_time": "2022-11-20T04:41:43.939694",
     "status": "completed"
    },
    "tags": []
   },
   "source": [
    "# Test the Model"
   ]
  },
  {
   "cell_type": "code",
   "execution_count": 12,
   "id": "0422d27a",
   "metadata": {
    "execution": {
     "iopub.execute_input": "2022-11-20T04:41:43.956227Z",
     "iopub.status.busy": "2022-11-20T04:41:43.955701Z",
     "iopub.status.idle": "2022-11-20T04:41:43.963490Z",
     "shell.execute_reply": "2022-11-20T04:41:43.962499Z"
    },
    "papermill": {
     "duration": 0.01526,
     "end_time": "2022-11-20T04:41:43.965200",
     "exception": false,
     "start_time": "2022-11-20T04:41:43.949940",
     "status": "completed"
    },
    "tags": []
   },
   "outputs": [
    {
     "name": "stdout",
     "output_type": "stream",
     "text": [
      "Actual: [ 0 15  5  0]\n",
      "Predicted: [0 5 5 0]\n"
     ]
    }
   ],
   "source": [
    "predicted = logistic_model.predict(test_x)\n",
    "print('Actual:', test_y)\n",
    "print('Predicted:', predicted)"
   ]
  },
  {
   "cell_type": "code",
   "execution_count": 13,
   "id": "8683b1a1",
   "metadata": {
    "execution": {
     "iopub.execute_input": "2022-11-20T04:41:43.977181Z",
     "iopub.status.busy": "2022-11-20T04:41:43.976746Z",
     "iopub.status.idle": "2022-11-20T04:41:43.981813Z",
     "shell.execute_reply": "2022-11-20T04:41:43.981244Z"
    },
    "papermill": {
     "duration": 0.012752,
     "end_time": "2022-11-20T04:41:43.983343",
     "exception": false,
     "start_time": "2022-11-20T04:41:43.970591",
     "status": "completed"
    },
    "tags": []
   },
   "outputs": [
    {
     "data": {
      "text/plain": [
       "25.0"
      ]
     },
     "execution_count": 13,
     "metadata": {},
     "output_type": "execute_result"
    }
   ],
   "source": [
    "mean_squared_error(test_y, predicted)"
   ]
  },
  {
   "cell_type": "code",
   "execution_count": 14,
   "id": "0b795d98",
   "metadata": {
    "execution": {
     "iopub.execute_input": "2022-11-20T04:41:43.995426Z",
     "iopub.status.busy": "2022-11-20T04:41:43.995039Z",
     "iopub.status.idle": "2022-11-20T04:41:44.000029Z",
     "shell.execute_reply": "2022-11-20T04:41:43.999408Z"
    },
    "papermill": {
     "duration": 0.012714,
     "end_time": "2022-11-20T04:41:44.001615",
     "exception": false,
     "start_time": "2022-11-20T04:41:43.988901",
     "status": "completed"
    },
    "tags": []
   },
   "outputs": [
    {
     "data": {
      "text/plain": [
       "2.5"
      ]
     },
     "execution_count": 14,
     "metadata": {},
     "output_type": "execute_result"
    }
   ],
   "source": [
    "mean_absolute_error(test_y, predicted)"
   ]
  },
  {
   "cell_type": "code",
   "execution_count": 15,
   "id": "3333785b",
   "metadata": {
    "execution": {
     "iopub.execute_input": "2022-11-20T04:41:44.013632Z",
     "iopub.status.busy": "2022-11-20T04:41:44.013260Z",
     "iopub.status.idle": "2022-11-20T04:41:44.234697Z",
     "shell.execute_reply": "2022-11-20T04:41:44.233891Z"
    },
    "papermill": {
     "duration": 0.229256,
     "end_time": "2022-11-20T04:41:44.236332",
     "exception": false,
     "start_time": "2022-11-20T04:41:44.007076",
     "status": "completed"
    },
    "tags": []
   },
   "outputs": [
    {
     "data": {
      "text/plain": [
       "<matplotlib.legend.Legend at 0x7fb47a06fc10>"
      ]
     },
     "execution_count": 15,
     "metadata": {},
     "output_type": "execute_result"
    },
    {
     "data": {
      "image/png": "[encoded data removed]",
      "text/plain": [
       "<Figure size 432x288 with 1 Axes>"
      ]
     },
     "metadata": {
      "needs_background": "light"
     },
     "output_type": "display_data"
    }
   ],
   "source": [
    "import matplotlib.pyplot as plt\n",
    "ts = len(test_y)\n",
    "plt.scatter(range(ts), test_y, label ='actual_tips')\n",
    "plt.scatter(range(ts), predicted, label = 'predicted_tips')\n",
    "plt.legend()"
   ]
  },
  {
   "cell_type": "markdown",
   "id": "242c928b",
   "metadata": {
    "papermill": {
     "duration": 0.005732,
     "end_time": "2022-11-20T04:41:44.248265",
     "exception": false,
     "start_time": "2022-11-20T04:41:44.242533",
     "status": "completed"
    },
    "tags": []
   },
   "source": [
    "# Predict on Real world Data"
   ]
  },
  {
   "cell_type": "code",
   "execution_count": 16,
   "id": "1c7386d4",
   "metadata": {
    "execution": {
     "iopub.execute_input": "2022-11-20T04:41:44.260890Z",
     "iopub.status.busy": "2022-11-20T04:41:44.260624Z",
     "iopub.status.idle": "2022-11-20T04:41:44.265739Z",
     "shell.execute_reply": "2022-11-20T04:41:44.265209Z"
    },
    "papermill": {
     "duration": 0.013083,
     "end_time": "2022-11-20T04:41:44.267160",
     "exception": false,
     "start_time": "2022-11-20T04:41:44.254077",
     "status": "completed"
    },
    "tags": []
   },
   "outputs": [
    {
     "data": {
      "text/plain": [
       "20"
      ]
     },
     "execution_count": 16,
     "metadata": {},
     "output_type": "execute_result"
    }
   ],
   "source": [
    "sample_in = [250,6,1,2]\n",
    "sample_result = logistic_model.predict([sample_in])\n",
    "sample_result[0]"
   ]
  }
 ],
 "metadata": {
  "kernelspec": {
   "display_name": "Python 3",
   "language": "python",
   "name": "python3"
  },
  "language_info": {
   "codemirror_mode": {
    "name": "ipython",
    "version": 3
   },
   "file_extension": ".py",
   "mimetype": "text/x-python",
   "name": "python",
   "nbconvert_exporter": "python",
   "pygments_lexer": "ipython3",
   "version": "3.7.12"
  },
  "papermill": {
   "default_parameters": {},
   "duration": 8.221373,
   "end_time": "2022-11-20T04:41:44.790752",
   "environment_variables": {},
   "exception": null,
   "input_path": "__notebook__.ipynb",
   "output_path": "__notebook__.ipynb",
   "parameters": {},
   "start_time": "2022-11-20T04:41:36.569379",
   "version": "2.3.4"
  }
 },
 "nbformat": 4,
 "nbformat_minor": 5
}
